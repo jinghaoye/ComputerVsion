{
 "cells": [
  {
   "cell_type": "markdown",
   "metadata": {},
   "source": [
    "## CS585 HW5"
   ]
  },
  {
   "cell_type": "markdown",
   "metadata": {},
   "source": [
    "### Group Members: Jinghao Ye, Yuhang Sun"
   ]
  },
  {
   "cell_type": "code",
   "execution_count": 1,
   "metadata": {},
   "outputs": [],
   "source": [
    "import cv2\n",
    "import numpy as np\n",
    "from os import listdir\n",
    "from os.path import isfile, join\n",
    "import random\n",
    "from scipy.optimize import linear_sum_assignment\n",
    "\n",
    "thresh = 128\n",
    "max_thresh = 255"
   ]
  },
  {
   "cell_type": "markdown",
   "metadata": {},
   "source": [
    "### Define Track and Tracker"
   ]
  },
  {
   "cell_type": "code",
   "execution_count": 2,
   "metadata": {},
   "outputs": [],
   "source": [
    "class Track:\n",
    "    # it defines single objects detected in frames\n",
    "    def __init__(self, position, trackID, remove_time):\n",
    "        self.position = position\n",
    "        self.id = trackID # id of each track object\n",
    "        self.ori_remove_time = remove_time\n",
    "        self.remove_time = remove_time\n",
    "        \n",
    "        # initialize Kalman filter\n",
    "        self.kf = cv2.KalmanFilter(2, 2)\n",
    "        self.kf.measurementMatrix = np.array([[1, 0], [0, 1]], np.float32)\n",
    "        self.kf.transitionMatrix = np.array([[1, 0], [0, 1]], np.float32)\n",
    "        self.kf.processNoiseCov = np.array([[1, 0],[0, 1]], np.float32) * 0.07\n",
    "        self.kf.measurementNoiseCov = np.array([[1, 0],[0, 1]], np.float32) * 0.01\n",
    "        self.trace = []\n",
    "        self.color = (random.randint(0, 255), random.randint(0, 255), random.randint(0, 255))\n",
    "        self.stop = False\n",
    "    \n",
    "    def drawPath(self, image):\n",
    "        # draw the path of the object\n",
    "        if len(self.trace) > 1:\n",
    "            for i in range(1, len(self.trace)):\n",
    "                pre = self.trace[i - 1]\n",
    "                cur = self.trace[i]\n",
    "                cv2.circle(image, tuple(pre), 1, self.color, 2)\n",
    "                cv2.circle(image, tuple(cur), 1, self.color, 2)\n",
    "                cv2.line(image, tuple(pre), tuple(cur), self.color, 1)\n",
    "                \n",
    "    def predict(self):\n",
    "        # predict new position\n",
    "        x, y = self.kf.predict()\n",
    "        return [int(x), int(y)]\n",
    "    \n",
    "    def correct(self, position):\n",
    "        # update the track's state\n",
    "        if self.stop:\n",
    "            return self.stop\n",
    "        if position is None:\n",
    "            self.remove_time -= 1\n",
    "            if self.remove_time == 0:\n",
    "                self.stop = True\n",
    "        else:\n",
    "            correct = self.kf.correct(np.float32(position))\n",
    "            int_correct = np.array([int(correct[0]), int(correct[1])])\n",
    "            self.trace.append(int_correct)\n",
    "            self.position = int_correct\n",
    "            self.remove_time = self.ori_remove_time\n",
    "        \n",
    "        return self.stop"
   ]
  },
  {
   "cell_type": "code",
   "execution_count": 3,
   "metadata": {},
   "outputs": [],
   "source": [
    "class Tracker:\n",
    "    # tracker updates tracks of objects\n",
    "    def __init__(self, dist_thresh, remove_time):\n",
    "        self.dist_thresh = dist_thresh\n",
    "        self.remove_time = remove_time\n",
    "        self.tracks = []\n",
    "        self.trackID = 0\n",
    "        \n",
    "    def initialize(self, measurements):\n",
    "        # initialize the tracker\n",
    "        for i in range(len(measurements)):\n",
    "                track = Track(measurements[i], self.trackID, self.remove_time)\n",
    "                self.trackID += 1\n",
    "                self.tracks.append(track)\n",
    "                \n",
    "    def update(self, measurements, image):\n",
    "        tracked_items = []\n",
    "        tracked_items_id = []\n",
    "        # make prediction\n",
    "        for item in self.tracks:\n",
    "            if not item.stop:\n",
    "                prediction = item.predict()\n",
    "                tracked_items.append(prediction)\n",
    "                tracked_items_id.append(item.id)\n",
    "                \n",
    "\n",
    "        # use Kalman Filter to predict new state\n",
    "        # then use Hungarian Algorithm to match exist tracks and new points\n",
    "        # calculate cost using sum of square distance between predicted states and measurements\n",
    "        N = len(tracked_items)\n",
    "        M = len(measurements)\n",
    "        cost = np.zeros(shape=(N, M)) # cost matrix\n",
    "        for i in range(N):\n",
    "            for j in range(M):\n",
    "                diff = self.tracks[i].position - measurements[j]\n",
    "                distance = np.sqrt(diff[0] ** 2 + diff[1] ** 2)\n",
    "                cost[i][j] = distance\n",
    "        \n",
    "        # then use Hungarian Algorithm to assign the correct measurements\n",
    "        assignment = []\n",
    "        for _ in range(N):\n",
    "            assignment.append(-1)\n",
    "        row_ind, col_ind = linear_sum_assignment(cost)\n",
    "        for i in range(len(row_ind)):\n",
    "            assignment[row_ind[i]] = col_ind[i]\n",
    "        \n",
    "        # Identify tracks with no assignment, if any\n",
    "        for i in range(len(assignment)):\n",
    "            if (assignment[i] != -1):\n",
    "                # check for cost distance threshold.\n",
    "                # If cost is very high then un_assign (delete) the track\n",
    "                if(cost[i][assignment[i]] > self.dist_thresh):\n",
    "                    assignment[i] = -1\n",
    "        \n",
    "        # update tracks\n",
    "        for i in range(N):\n",
    "            if assignment[i] != -1:\n",
    "                measurement = measurements[assignment[i]]\n",
    "            else:\n",
    "                measurement = None\n",
    "\n",
    "            item = self.tracks[tracked_items_id[i]]\n",
    "            stop = item.correct(measurement)\n",
    "            if not stop:\n",
    "                item.drawPath(image)\n",
    "        \n",
    "        # new tracks\n",
    "        un_assigned_measure = []\n",
    "        for i in range(len(measurements)):\n",
    "            if i not in assignment:\n",
    "                un_assigned_measure.append(i)\n",
    "        \n",
    "        if(len(un_assigned_measure) != 0):\n",
    "            for i in range(len(un_assigned_measure)):\n",
    "                track = Track(measurements[un_assigned_measure[i]], self.trackID, self.remove_time)\n",
    "                self.trackID += 1\n",
    "                self.tracks.append(track)"
   ]
  },
  {
   "cell_type": "markdown",
   "metadata": {},
   "source": [
    "### Bats Part"
   ]
  },
  {
   "cell_type": "code",
   "execution_count": 4,
   "metadata": {},
   "outputs": [],
   "source": [
    "img_path = './CS585-BatImages/Gray'\n",
    "# read images\n",
    "files = [join(img_path,f) for f in listdir(img_path) if isfile(join(img_path,f))]"
   ]
  },
  {
   "cell_type": "code",
   "execution_count": 5,
   "metadata": {},
   "outputs": [
    {
     "name": "stdout",
     "output_type": "stream",
     "text": [
      "151\n"
     ]
    }
   ],
   "source": [
    "img = []\n",
    "for i in range(len(files)):\n",
    "    img.append(cv2.imread(files[i]))\n",
    "    \n",
    "print(len(img))\n",
    "# shape of img: 1024 * 1024 * 3"
   ]
  },
  {
   "cell_type": "code",
   "execution_count": 6,
   "metadata": {},
   "outputs": [],
   "source": [
    "def readFromTxt(files):\n",
    "    result = []\n",
    "    for i in range(len(files)):\n",
    "        with open(files[i], 'r') as f:\n",
    "            frame = []\n",
    "            for line in f.readlines():\n",
    "                line = line.strip('\\n')\n",
    "                line = line.split(',')\n",
    "                line = np.array(list(map(int, line)))\n",
    "                frame.append(line)\n",
    "            result.append(frame)\n",
    "    return result"
   ]
  },
  {
   "cell_type": "code",
   "execution_count": 7,
   "metadata": {},
   "outputs": [
    {
     "name": "stdout",
     "output_type": "stream",
     "text": [
      "151\n"
     ]
    }
   ],
   "source": [
    "# read localizations\n",
    "local_path = './Localization'\n",
    "files = [join(local_path, f) for f in listdir(local_path) if isfile(join(local_path, f))]\n",
    "local = readFromTxt(files)\n",
    "\n",
    "print(len(local))"
   ]
  },
  {
   "cell_type": "code",
   "execution_count": 8,
   "metadata": {
    "scrolled": true
   },
   "outputs": [],
   "source": [
    "# bats\n",
    "img_indx = 1\n",
    "dis_thresh = 80\n",
    "timer = 200\n",
    "tracker = Tracker(dis_thresh, timer)\n",
    "tracker.initialize(local[0])\n",
    "while img_indx < len(files):\n",
    "    cur = img[img_indx]\n",
    "    track_output = img[img_indx][:,:,:].copy()\n",
    "        \n",
    "    cur_local = local[img_indx]\n",
    "    if len(cur_local) > 0:\n",
    "        for i in range(len(cur_local)):\n",
    "            cv2.circle(track_output, (cur_local[i][0], cur_local[i][1]), 1, (0,255,0), 4)\n",
    "        \n",
    "        tracker.update(cur_local, track_output)\n",
    "        \n",
    "        # Show in a window\n",
    "        cv2.namedWindow(\"Track\", cv2.WINDOW_AUTOSIZE)\n",
    "        cv2.imshow(\"Track\", track_output)\n",
    "        if cv2.waitKey(100)&0xFF == 27:\n",
    "            break\n",
    "    \n",
    "    \n",
    "    img_indx += 1\n",
    "\n",
    "cv2.destroyAllWindows()"
   ]
  },
  {
   "cell_type": "markdown",
   "metadata": {},
   "source": [
    "### Cells Part"
   ]
  },
  {
   "cell_type": "code",
   "execution_count": 9,
   "metadata": {},
   "outputs": [],
   "source": [
    "def threshold(x, img):\n",
    "    # Convert into binary image using thresholding\n",
    "    # Documentation for threshold: http://docs.opencv.org/modules/imgproc/doc/miscellaneous_transformations.html?highlight=threshold#threshold\n",
    "    # Example of thresholding: http://docs.opencv.org/doc/tutorials/imgproc/threshold/threshold.html\n",
    "#     thres_output = cv2.adaptiveThreshold(img,255,cv2.ADAPTIVE_THRESH_MEAN_C, cv2.THRESH_BINARY,17,-5)\n",
    "\n",
    "#     # Find contours\n",
    "# \t# Documentation for finding contours: http://docs.opencv.org/modules/imgproc/doc/structural_analysis_and_shape_descriptors.html?highlight=findcontours#findcontours\n",
    "#     contours, hierarchy = cv2.findContours(thres_output, cv2.RETR_TREE, cv2.CHAIN_APPROX_SIMPLE)\n",
    "    _, thresh = cv2.threshold(blur, 40, 255, cv2.THRESH_BINARY)    \n",
    "    kernel = np.ones((5,5))\n",
    "    dilated = cv2.dilate(thresh, kernel)\n",
    "    dilated = cv2.dilate(dilated, kernel)\n",
    "    contours, _ = cv2.findContours(dilated, cv2.RETR_TREE, cv2.CHAIN_APPROX_SIMPLE)\n",
    "    \n",
    "    return contours, thresh\n",
    "\n",
    "def detectors(frame, track_output):\n",
    "    contours, thres_output = threshold(thresh, frame)\n",
    "\n",
    "    centers = []#center of object\n",
    "    radius_thresh = 1\n",
    "    if (len(contours) > 0):\n",
    "        for i in range(len(contours)):\n",
    "            try:\n",
    "                (x, y), radius = cv2.minEnclosingCircle(contours[i])\n",
    "                centeroid = (int(x), int(y))\n",
    "                radius = int(radius)\n",
    "                if (radius > radius_thresh):\n",
    "                    cv2.circle(track_output, centeroid, radius, (0, 255, 0), 2)\n",
    "                    line = [x,y]\n",
    "                    center = np.array(list(map(int, line)))\n",
    "\n",
    "                    centers.append(center)\n",
    "            except ZeroDivisionError:\n",
    "                pass\n",
    "\n",
    "            \n",
    "    return centers"
   ]
  },
  {
   "cell_type": "code",
   "execution_count": 10,
   "metadata": {},
   "outputs": [
    {
     "name": "stdout",
     "output_type": "stream",
     "text": [
      "112\n"
     ]
    }
   ],
   "source": [
    "img_path = './CS585-Cells'\n",
    "# read images\n",
    "files = [join(img_path,f) for f in listdir(img_path) if isfile(join(img_path,f))]\n",
    "\n",
    "img = []\n",
    "for i in range(len(files)):\n",
    "    img.append(cv2.imread(files[i]))\n",
    "    \n",
    "print(len(img))"
   ]
  },
  {
   "cell_type": "code",
   "execution_count": 11,
   "metadata": {},
   "outputs": [],
   "source": [
    "# cell\n",
    "img_indx = 1\n",
    "dis_thresh = 80\n",
    "timer = 200\n",
    "tracker = Tracker(dis_thresh, timer)\n",
    "# tracker.initialize(local[0])\n",
    "init_Flag = True\n",
    "ori_img = img[0]\n",
    "while img_indx < len(img):\n",
    "    cur = img[img_indx]\n",
    "\n",
    "    if cur is None:\n",
    "        img_indx += 1\n",
    "        pass\n",
    "    else:\n",
    "        diff = cv2.absdiff(ori_img, cur)\n",
    "        gray = cv2.cvtColor(diff, cv2.COLOR_BGR2GRAY)\n",
    "\n",
    "    #Blur the image\n",
    "    blur = cv2.blur(gray, (5, 5),0)\n",
    "    track_output = img[img_indx][:,:,:].copy()\n",
    "\n",
    "    cur_local = detectors(blur,track_output)\n",
    "    if init_Flag:\n",
    "        tracker.initialize(cur_local)\n",
    "        init_Flag = False\n",
    "    \n",
    "    if len(cur_local) > 0:\n",
    "        for i in range(len(cur_local)):\n",
    "            cv2.circle(track_output, (cur_local[i][0], cur_local[i][1]), 1, (0,255,0), 4)\n",
    "    \n",
    "        tracker.update(cur_local, track_output)\n",
    "        \n",
    "        # Show in a window\n",
    "        cv2.namedWindow(\"Track\", cv2.WINDOW_AUTOSIZE)\n",
    "        cv2.imshow(\"Track\", track_output)\n",
    "        #cv2.imshow(\"Contours\", cur)\n",
    "        if cv2.waitKey(100)&0xFF == 27:\n",
    "            break\n",
    "    \n",
    "    \n",
    "    img_indx += 1\n",
    "\n",
    "cv2.destroyAllWindows()"
   ]
  },
  {
   "cell_type": "code",
   "execution_count": null,
   "metadata": {},
   "outputs": [],
   "source": []
  }
 ],
 "metadata": {
  "kernelspec": {
   "display_name": "Python 3",
   "language": "python",
   "name": "python3"
  },
  "language_info": {
   "codemirror_mode": {
    "name": "ipython",
    "version": 3
   },
   "file_extension": ".py",
   "mimetype": "text/x-python",
   "name": "python",
   "nbconvert_exporter": "python",
   "pygments_lexer": "ipython3",
   "version": "3.7.4"
  }
 },
 "nbformat": 4,
 "nbformat_minor": 4
}
